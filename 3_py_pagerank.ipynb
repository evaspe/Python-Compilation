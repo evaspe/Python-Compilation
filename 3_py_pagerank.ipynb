{
 "cells": [
  {
   "cell_type": "markdown",
   "metadata": {},
   "source": [
    "\n",
    "### PageRank\n",
    "\n",
    "In this file I implement PageRank using OOP and iterators on [The Hamilton Project]'s dataset on **who talks about whom** in each of the show's songs. When character A mentions character B, we'll think of this as a *link* from A to B, suggesting that B might be important.\n",
    "\n",
    "First to setup, I ran these functions provided to me on the assignment. Their purpose is to get the data, save to local computer, read in the data, and return a list of tuples. "
   ]
  },
  {
   "cell_type": "code",
   "execution_count": 16,
   "metadata": {},
   "outputs": [],
   "source": [
    "\n",
    "import urllib\n",
    "import csv\n",
    "\n",
    "def retrieve_data(url):\n",
    "    \"\"\"\n",
    "    Retrieve a file from the specified url and save it in a local file \n",
    "    called data.csv. The intended values of url are: \n",
    "    \n",
    "    1. https://philchodrow.github.io/PIC16A/homework/HW3-hamilton-data.csv\n",
    "    2. https://philchodrow.github.io/PIC16A/homework/HW3-flights-data.csv\n",
    "    \"\"\"\n",
    "    \n",
    "    # grab the data and parse it\n",
    "    filedata = urllib.request.urlopen(url) \n",
    "    to_write = filedata.read()\n",
    "    \n",
    "    # write to file\n",
    "    with open(\"data.csv\", \"wb\") as f:\n",
    "        f.write(to_write)\n",
    "        \n",
    "def read_data(path):\n",
    "    \"\"\"\n",
    "    read downloaded data from a .csv file, and return a list of tuples. \n",
    "    each tuple represents a link between states. \n",
    "    \"\"\"\n",
    "    with open(path, \"r\") as f:\n",
    "        reader = csv.reader(f)\n",
    "        return [(row[0], row[1]) for row in list(reader)]"
   ]
  },
  {
   "cell_type": "markdown",
   "metadata": {},
   "source": [
    "Next I get the hamilton data."
   ]
  },
  {
   "cell_type": "code",
   "execution_count": 17,
   "metadata": {},
   "outputs": [],
   "source": [
    "\n",
    "url = \"https://philchodrow.github.io/PIC16A/homework/HW3-hamilton-data.csv\"\n",
    "retrieve_data(url) \n",
    "data=read_data(\"data.csv\")"
   ]
  },
  {
   "cell_type": "markdown",
   "metadata": {},
   "source": [
    "Next I wrote a function to describe the structure of the data"
   ]
  },
  {
   "cell_type": "code",
   "execution_count": 18,
   "metadata": {},
   "outputs": [
    {
     "data": {
      "text/plain": [
       "\"Element 5 of the Hamilton data set is ('burr', 'betsy'). That means Burr mentions Betsy in a song.\""
      ]
     },
     "execution_count": 18,
     "metadata": {},
     "output_type": "execute_result"
    }
   ],
   "source": [
    "#capitalize\n",
    "def describe(n):\n",
    "    mentioner=(str(data[n][0])).capitalize()\n",
    "    mentionee=(str(data[n][1])).capitalize()\n",
    "    return (\"Element \" + str(n) + \" of the Hamilton data set is \" + str(data[n]) + \". That means \" + mentioner + \" mentions \" + mentionee + \" in a song.\")\n",
    "\n",
    "describe(5)"
   ]
  },
  {
   "cell_type": "markdown",
   "metadata": {},
   "source": [
    "Next I wrote a function called that converts the data into a dictionary."
   ]
  },
  {
   "cell_type": "code",
   "execution_count": 19,
   "metadata": {},
   "outputs": [],
   "source": [
    "def data_to_dictionary(data):\n",
    "    '''\n",
    "    This function takes in a list of tiples and returns a dictionary containing each of the unique mentioners as the keys\n",
    "    and a list of all mentionees paired with the first parts as the vals\n",
    "    param-data, data list of mentioners and mentionees\n",
    "    return- dictionary of mentioners and their mentionees \n",
    "    '''\n",
    "    dic={}\n",
    "    for key,val in data: #for each pair in data ex: (a, b)\n",
    "        dic.setdefault(key, []).append(val) #set the default key to a, default val to blank list, add occurances of the vals to the list\n",
    "    return dic\n",
    " "
   ]
  },
  {
   "cell_type": "markdown",
   "metadata": {},
   "source": [
    "Next I implemented a DiGraph class."
   ]
  },
  {
   "cell_type": "code",
   "execution_count": 20,
   "metadata": {},
   "outputs": [],
   "source": [
    "class PR_DiGraph:\n",
    "    def __init__(self, data, iteration_limit):\n",
    "        '''\n",
    "        initializer method- sets initial values\n",
    "        param-self, data(list of mentioner data), iteration limit(max amt of iterations)\n",
    "        '''\n",
    "        self.link_dict=data_to_dictionary(data)\n",
    "        self.iteration_limit=iteration_limit\n",
    "        \n",
    "    def linked_by(self,x):\n",
    "        '''\n",
    "        returns the linked charachter at the name index\n",
    "        param- self, x(index which is a name)\n",
    "        return- the linked charachter at the given name index\n",
    "        \n",
    "        #this returns a list of states linked from x\n",
    "        '''\n",
    "        return self.link_dict[x] \n",
    "    \n",
    "    def __iter__(self):\n",
    "        '''\n",
    "        iterator method that returns object of PR_Iterator  \n",
    "        '''\n",
    "        return (PR_iterator(self)) "
   ]
  },
  {
   "cell_type": "code",
   "execution_count": 21,
   "metadata": {},
   "outputs": [
    {
     "data": {
      "text/plain": [
       "['peggy', 'schuylerSis']"
      ]
     },
     "execution_count": 21,
     "metadata": {},
     "output_type": "execute_result"
    }
   ],
   "source": [
    "D = PR_DiGraph(data, iteration_limit = 10000)\n",
    "D.linked_by('peggy')"
   ]
  },
  {
   "cell_type": "markdown",
   "metadata": {},
   "source": [
    "Next I implemented a PR_iterator class that has an initializer and functions to represent each type of movement along the data: follow link, next, and teleport. "
   ]
  },
  {
   "cell_type": "code",
   "execution_count": 22,
   "metadata": {},
   "outputs": [],
   "source": [
    "import random\n",
    "\n",
    "class PR_iterator:\n",
    "    \n",
    "    def __init__(self, PR_d):\n",
    "        '''\n",
    "        Initializer method-sets values\n",
    "        param- self and PR_d, an object of PR_di class\n",
    "        '''\n",
    "        self.PR_d=PR_d\n",
    "        self.i=0\n",
    "        self.current_state = \"hamilton\" \n",
    "        self.iteration_limit=PR_d.iteration_limit #he didnt have this part\n",
    "        \n",
    "    def follow_link(self):\n",
    "        '''\n",
    "        This function picks where to go from the current state \n",
    "        it will go from the current mention a random charchter they mention, if it selects a valid next charachter link,\n",
    "        follow that link, otherwise teleport to a random chrachter mention\n",
    "        \n",
    "        param-self\n",
    "        '''\n",
    "\n",
    "        try: #the reason we need this is because some charachters dont talk\n",
    "            \n",
    "            #** this is a list of possibilities actually\n",
    "            state=self.PR_d.linked_by(self.current_state) #** wrong-get the linked by chrachter\n",
    "            \n",
    "            next_state =random.choice(state) #go from linked by charachter to random next charachter\n",
    "        \n",
    "        \n",
    "            if self.current_state != next_state: #if they are not same charachter, set current to next\n",
    "                self.current_state=next_state\n",
    "            else: #if they are same charachter, time to teleport\n",
    "                self.teleport()\n",
    "        except KeyError:\n",
    "            self.teleport()\n",
    "            \n",
    "       \n",
    "    def __next__(self):\n",
    "        '''\n",
    "        Next method- increments counter, checks if counter is within limit, \n",
    "        chooses next state with 85% prb of following a link, 15% prb of random teleportation\n",
    "        param-self\n",
    "        return- the current state\n",
    "        '''\n",
    "        self.i+=1 #increment counter\n",
    "        if self.i > self.iteration_limit: #make sure counter is within iteration limit, if not raise error\n",
    "            raise StopIteration\n",
    "            \n",
    "        if random.random() < 0.85:  \n",
    "            self.follow_link() #remember when ur using the functions of the iterator class\n",
    "        else:\n",
    "            self.teleport()\n",
    "        \n",
    "        return self.current_state\n",
    "        \n",
    "        \n",
    "        \n",
    "    def teleport(self):\n",
    "        \"\"\"\n",
    "        This function chooses a random next state\n",
    "        param-self\n",
    "        \"\"\"\n",
    "        options_for_next=list(self.PR_d.link_dict.keys())\n",
    "        self.current_state = random.choice(options_for_next)\n",
    "        #another way is self.current_state=random.couce(list(self.PR_d.link_dict.jeys())), one line\n",
    "        #\n",
    "            \n",
    "            \n",
    "    "
   ]
  },
  {
   "cell_type": "code",
   "execution_count": 24,
   "metadata": {},
   "outputs": [
    {
     "name": "stdout",
     "output_type": "stream",
     "text": [
      "reynolds\n",
      "angelica\n",
      "hamilton\n",
      "schuylerSis\n",
      "laurens\n"
     ]
    }
   ],
   "source": [
    "# run the below\n",
    "D = PR_DiGraph(data, iteration_limit = 5)\n",
    "for char in D:\n",
    "    print(char)"
   ]
  },
  {
   "cell_type": "markdown",
   "metadata": {},
   "source": [
    "Using the above classes, I ran PageRank to find which charachters were the most relevant."
   ]
  },
  {
   "cell_type": "code",
   "execution_count": 26,
   "metadata": {},
   "outputs": [],
   "source": [
    "\n",
    "pr_score_dict={} #start with empty dict\n",
    "pRank=PR_DiGraph(data, 1000000) #create page rank\n",
    "\n",
    "for state in pRank: #create a dictionary that keeps track of frequency of each state, key=state (charachter),val=frequency\n",
    "    if state in pr_score_dict: #if charachter already mentioned\n",
    "        pr_score_dict[state] +=1  #add to count\n",
    "    else:\n",
    "        pr_score_dict[state] = 1 #otherwise, start count at 1\n",
    "        "
   ]
  },
  {
   "cell_type": "markdown",
   "metadata": {},
   "source": [
    "Then I displayed the top 10 most relevant charachters. "
   ]
  },
  {
   "cell_type": "code",
   "execution_count": 27,
   "metadata": {},
   "outputs": [
    {
     "data": {
      "text/plain": [
       "[('hamilton', 166579),\n",
       " ('burr', 99146),\n",
       " ('washington', 92523),\n",
       " ('jefferson', 72298),\n",
       " ('eliza', 51955),\n",
       " ('angelica', 47672),\n",
       " ('madison', 36658),\n",
       " ('lafayette', 34230),\n",
       " ('lee', 33572),\n",
       " ('jAdams', 30964)]"
      ]
     },
     "execution_count": 27,
     "metadata": {},
     "output_type": "execute_result"
    }
   ],
   "source": [
    "#print the things in descending order based on value\n",
    "list_of_scores=[(keys,vals) for keys,vals in pr_score_dict.items()] #make list from key and val\n",
    "sorted((list_of_scores),key= lambda list_of_scores: list_of_scores[1], reverse=True)[:10] #sort in reverse order and print indecies 0-9"
   ]
  }
 ],
 "metadata": {
  "kernelspec": {
   "display_name": "Python 3",
   "language": "python",
   "name": "python3"
  },
  "language_info": {
   "codemirror_mode": {
    "name": "ipython",
    "version": 3
   },
   "file_extension": ".py",
   "mimetype": "text/x-python",
   "name": "python",
   "nbconvert_exporter": "python",
   "pygments_lexer": "ipython3",
   "version": "3.8.8"
  }
 },
 "nbformat": 4,
 "nbformat_minor": 4
}
