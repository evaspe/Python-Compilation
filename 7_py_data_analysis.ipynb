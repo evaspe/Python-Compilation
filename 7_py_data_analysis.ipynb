{
 "cells": [
  {
   "cell_type": "markdown",
   "id": "8f28fcca-4d95-4bf2-a09d-a81f87134cc3",
   "metadata": {},
   "source": [
    "# Data Analysis to show algorithmic bias"
   ]
  },
  {
   "cell_type": "markdown",
   "id": "d6a4e761-5195-470a-8d85-49d7ce7f3f5c",
   "metadata": {},
   "source": [
    "The following two blocks were given in the assignment to get data about gender representation in the tate and sort it into categories by medium."
   ]
  },
  {
   "cell_type": "code",
   "execution_count": 280,
   "id": "4c01090d-1531-493d-bf7b-914f5f456ea0",
   "metadata": {},
   "outputs": [],
   "source": [
    "import pandas as pd\n",
    "artwork = pd.read_csv('https://raw.githubusercontent.com/rfordatascience/tidytuesday/master/data/2021/2021-01-12/artwork.csv')\n",
    "artists = pd.read_csv(\"https://github.com/tategallery/collection/raw/master/artist_data.csv\")\n",
    "\n",
    "artwork.to_csv(\"artwork.csv\", index = False)\n",
    "artists.to_csv(\"artists.csv\", index = False)"
   ]
  },
  {
   "cell_type": "code",
   "execution_count": 281,
   "id": "dbb06602-ca9e-498a-9353-ef2882625236",
   "metadata": {},
   "outputs": [],
   "source": [
    "import pandas as pd\n",
    "artwork = pd.read_csv('https://raw.githubusercontent.com/rfordatascience/tidytuesday/master/data/2021/2021-01-12/artwork.csv')\n",
    "artists = pd.read_csv(\"https://github.com/tategallery/collection/raw/master/artist_data.csv\")\n",
    "\n",
    "artwork[\"id\"] = artwork[\"artistId\"]\n",
    "artwork = artwork[[\"id\", \"year\", \"acquisitionYear\", \"title\", \"medium\"]]\n",
    "artists = artists[[\"id\", \"gender\"]]\n",
    "df = pd.merge(artwork, artists)\n",
    "\n",
    "def dimension(med_string):\n",
    "    \"\"\"\n",
    "    Assign a dimension to a given piece of artwork based on the description\n",
    "    of the medium, supplied as a string. \n",
    "    Media that include the words \"paper\", \"canvas\", \"oil\", or \"paint\" are assumed \n",
    "    2D. \n",
    "    Media that are not 2d and include the words \"bronze\", \"stone\", or \"ceramic\" are \n",
    "    assumed 3D. \n",
    "    Otherwise, the media is \"Other/Unknown\"\n",
    "    \n",
    "    @param med_string: str, the original medium\n",
    "    @return dim: one of \"2D\", \"3D\", or \"Other/Unknown\" according to the rules above. \n",
    "    \"\"\"\n",
    "    if type(med_string) != str:\n",
    "        med_string = str(med_string)\n",
    "    med_string = med_string.lower()\n",
    "    if any([w in med_string for w in [\"paper\", \"canvas\", \"oil\", \"paint\"]]):\n",
    "        return \"2D\"\n",
    "    elif any([w in med_string for w in [\"bronze\", \"stone\", \"ceramic\"]]):\n",
    "        return \"3D\"\n",
    "    else:\n",
    "        return \"Other/Unknown\"\n",
    "\n",
    "df[\"dimension\"] = [dimension(m) for m in df[\"medium\"]]\n",
    "df = df[[\"title\",\"acquisitionYear\", \"gender\", \"dimension\"]]"
   ]
  },
  {
   "cell_type": "markdown",
   "id": "0305215a-693c-434f-a6f1-b61baa7a90cc",
   "metadata": {},
   "source": [
    "With this data, I made a graph examining percentage of work by female artists by year in the Tate museum split into categories of 2D, 3D, and other/unknown."
   ]
  },
  {
   "cell_type": "code",
   "execution_count": 282,
   "id": "c07b305c-3000-4577-90ba-7d940a82d11e",
   "metadata": {},
   "outputs": [
    {
     "data": {
      "text/plain": [
       "<matplotlib.legend.Legend at 0x7ff46a034100>"
      ]
     },
     "execution_count": 282,
     "metadata": {},
     "output_type": "execute_result"
    },
    {
     "data": {
      "image/png": "[encoded data removed]",
      "text/plain": [
       "<Figure size 432x288 with 1 Axes>"
      ]
     },
     "metadata": {
      "needs_background": "light"
     },
     "output_type": "display_data"
    }
   ],
   "source": [
    "\n",
    "import seaborn as sns\n",
    "from matplotlib import pyplot as plt\n",
    "import numpy as np\n",
    "\n",
    "\n",
    "#sort by year, then gender, then dimension\n",
    "df_sort=df.sort_values([\"acquisitionYear\", \"gender\", \"dimension\"])\n",
    "\n",
    "#make plot, add title and axes\n",
    "fig, ax=plt.subplots(1)\n",
    "fig.suptitle(\"Representation of Female Artists at the Tate Museum\")\n",
    "ax.set(xlabel=\"Year of acquisition\")\n",
    "ax.set(ylabel=\"Proportion of Work by Female Artists\")\n",
    "\n",
    "def f(dimension):\n",
    "    \"\"\"\n",
    "    This function finds the cumulative totals of a specific \n",
    "    dimension of art done by males, females, and total \n",
    "    amount of art ownded by the tate, and plots the \n",
    "    percentage of work that is by females for each year\n",
    "    \n",
    "    @param- dimension: a set of the above dataframe containing\n",
    "    one specific dimension of work\n",
    "    \n",
    "    \"\"\"\n",
    "    \n",
    "    #split by gender\n",
    "    female=dimension[\"gender\"]==\"Female\"\n",
    "    male=dimension[\"gender\"]==\"Male\"\n",
    "    \n",
    "    #calculate cumulative sum of each, add to get total\n",
    "    fNum=female.cumsum()\n",
    "    mNum=male.cumsum()\n",
    "    pieces=fNum+mNum\n",
    "    \n",
    "    #find percent of work that is female\n",
    "    percent=fNum/pieces\n",
    "    \n",
    "    #plot percent of art thats female by year\n",
    "    ax.plot(dimension['acquisitionYear'], percent, \n",
    "            label=dimension['dimension'].unique()[0])\n",
    "    \n",
    "    \n",
    "    \n",
    "\n",
    "#group by dimension \n",
    "df_sort.groupby([\"dimension\"]).apply(f)\n",
    "ax.legend()\n",
    "\n"
   ]
  },
  {
   "cell_type": "markdown",
   "id": "23b18a8e-d46d-4dfa-b460-5900b69f182d",
   "metadata": {},
   "source": [
    "## Health Care Discrepancies\n",
    "\n",
    "Next, I will get medical data that was originally used to create a machine learning model that predicts health outcomes. The data I will be using includes demographics, metrics of health, and insurance claims. This was provided to me."
   ]
  },
  {
   "cell_type": "code",
   "execution_count": 283,
   "id": "28c63167-385f-4b4f-a8f7-1504c9c7efbf",
   "metadata": {},
   "outputs": [],
   "source": [
    "import pandas as pd\n",
    "url = \"https://gitlab.com/labsysmed/dissecting-bias/-/raw/master/data/data_new.csv?inline=false\"\n",
    "df = pd.read_csv(url)"
   ]
  },
  {
   "cell_type": "code",
   "execution_count": 284,
   "id": "efb50996-5438-4965-a436-e78f168686d7",
   "metadata": {},
   "outputs": [
    {
     "data": {
      "text/plain": [
       "(48784, 160)"
      ]
     },
     "execution_count": 284,
     "metadata": {},
     "output_type": "execute_result"
    }
   ],
   "source": [
    "df.shape"
   ]
  },
  {
   "cell_type": "markdown",
   "id": "282e30d6-dc51-460b-9d48-a958c1a3d09f",
   "metadata": {},
   "source": [
    "Additional given information about column meanings. \n",
    "\n",
    "- `risk_score_t` is the algorithm's risk score assigned to a given patient. \n",
    "- `cost_t` is the patient's medical costs in the study period. \n",
    "- `race` is the patient's self-reported race. The authors filtered the data to include only `white` and `black` patients. \n",
    "- `gagne_sum_t` is the total number of chronic illnesses presented by the patient during the study period. \n",
    "- `dem_female` is a patient sex indicator, with `1` indicating female patients and `0` indicating male patients. "
   ]
  },
  {
   "cell_type": "code",
   "execution_count": 2,
   "id": "aa809423-636c-413a-8fda-e40d6f5b46b1",
   "metadata": {},
   "outputs": [],
   "source": [
    "cols = ['risk_score_t', 'cost_t', 'gagne_sum_t','race',  'dem_female']"
   ]
  },
  {
   "cell_type": "markdown",
   "id": "8f5f1ccc-630d-4420-8ab3-0ce14b02f90e",
   "metadata": {},
   "source": [
    "In the graph below, The vertical axis gives the *percentile risk* of patients assigned by the algorithm, and the horizontal axis gives the average number of chronic illnesses presented by patients in the corresponding risk percentile**.\n",
    "\n",
    "For example, White men in the 80th risk score percentile presented, on average, approximately two chronic illnesses. The number of chronic illnesses presented by a patient is contained in the `\"gagne_sum_t\"` column of the data. "
   ]
  },
  {
   "cell_type": "code",
   "execution_count": 287,
   "id": "d18257db-3b48-4533-b5c2-a8d1cc511d38",
   "metadata": {},
   "outputs": [
    {
     "data": {
      "text/plain": [
       "Text(0.5, 1.0, 'Female')"
      ]
     },
     "execution_count": 287,
     "metadata": {},
     "output_type": "execute_result"
    },
    {
     "data": {
      "image/png": "[encoded data removed]",
      "text/plain": [
       "<Figure size 785.125x360 with 2 Axes>"
      ]
     },
     "metadata": {
      "needs_background": "light"
     },
     "output_type": "display_data"
    }
   ],
   "source": [
    "# your solution\n",
    "\n",
    "\n",
    "#map- for making legend capitalized later\n",
    "df=df.rename(columns={\"race\":\"Race\"})\n",
    "#capitalize black and white\n",
    "df[\"Race\"]=df[\"Race\"].map({\"black\":\"Black\", \"white\":\"White\"})\n",
    "\n",
    "#y values: risk score percentile \n",
    "df['y']=((df[\"risk_score_t\"].rank()/len(df)*100).round()).astype(int)\n",
    "\n",
    "#group by race, sex, and risk score, then get mean \n",
    "#number of illnesses for each\n",
    "new_=df.groupby(['Race', 'dem_female', 'y'])[['gagne_sum_t']].mean()\n",
    "\n",
    "#make that into a new df to use means\n",
    "new_df=pd.DataFrame(new_.reset_index())\n",
    "\n",
    "\n",
    "plots=sns.relplot(data=new_df,\n",
    "                  x=\"gagne_sum_t\",\n",
    "                  y=\"y\",\n",
    "                  hue=\"Race\",\n",
    "                  col=\"dem_female\",\n",
    "                  alpha=.7,\n",
    "                  legend=True)\n",
    "                  \n",
    "\n",
    "#Set Labels and Titles\n",
    "plots.axes[0][0].set(xlabel=\"Mean number of chronic illnesses\",\n",
    "                    ylabel=\"Percentile risk score (from algorithm)\",)\n",
    "plots.axes[0][0].set_title(\"Male\", fontsize=20)\n",
    "\n",
    "plots.axes[0][1].set(xlabel=\"Mean number of chronic illnesses\")\n",
    "plots.axes[0][1].set_title(\"Female\", fontsize=20)"
   ]
  },
  {
   "cell_type": "markdown",
   "id": "d4c80629-343b-4e17-8251-ba919b05fffa",
   "metadata": {},
   "source": [
    "Conclusions: \n",
    "\n",
    "If Patient A is Black and Patient B is white, and they are equally sick, patient B is more likely to be referred into the high-risk care management program. Splitting the plots by gender shows that for male and female patients, White patients have higher percentile risk scores than Black patients with the same number of chronic illnesses."
   ]
  },
  {
   "cell_type": "markdown",
   "id": "52c26125-9381-4366-b496-6e910a7f2b16",
   "metadata": {},
   "source": [
    "As shown above, there is a clear disparity between health care of Black and White patients, and I attempted to find the source. The column above that was risk score, calculating health risk based on overall level of health was trained using total medical cost as the target variable. \n",
    "\n",
    "I will use linear regression to estimate the difference in generated medical costs between White and Black patients in this data set. The two following cells were given."
   ]
  },
  {
   "cell_type": "code",
   "execution_count": 233,
   "id": "2447b285-4c40-4139-8df6-7fe3158e1e56",
   "metadata": {},
   "outputs": [],
   "source": [
    "# Step 1: run, do not modify\n",
    "df = pd.read_csv(url)"
   ]
  },
  {
   "cell_type": "code",
   "execution_count": 245,
   "id": "7bd25efc-8ef3-4a0a-be77-b9729f9b9d97",
   "metadata": {},
   "outputs": [],
   "source": [
    "# Step 2: run, do not modify\n",
    "cols = ['cost_t',\n",
    "        'race',\n",
    "        'dem_female',\n",
    "        'dem_age_band_18-24_tm1',\n",
    "        'dem_age_band_25-34_tm1',\n",
    "        'dem_age_band_35-44_tm1',\n",
    "        'dem_age_band_45-54_tm1',\n",
    "        'dem_age_band_55-64_tm1',\n",
    "        'dem_age_band_65-74_tm1',\n",
    "        'dem_age_band_75+_tm1',\n",
    "        'alcohol_elixhauser_tm1',\n",
    "        'anemia_elixhauser_tm1',\n",
    "        'arrhythmia_elixhauser_tm1',\n",
    "        'arthritis_elixhauser_tm1',\n",
    "        'bloodlossanemia_elixhauser_tm1',\n",
    "        'coagulopathy_elixhauser_tm1',\n",
    "        'compdiabetes_elixhauser_tm1',\n",
    "        'depression_elixhauser_tm1',\n",
    "        'drugabuse_elixhauser_tm1',\n",
    "        'electrolytes_elixhauser_tm1',\n",
    "        'hypertension_elixhauser_tm1',\n",
    "        'hypothyroid_elixhauser_tm1',\n",
    "        'liver_elixhauser_tm1',\n",
    "        'neurodegen_elixhauser_tm1',\n",
    "        'obesity_elixhauser_tm1',\n",
    "        'paralysis_elixhauser_tm1',\n",
    "        'psychosis_elixhauser_tm1',\n",
    "        'pulmcirc_elixhauser_tm1',\n",
    "        'pvd_elixhauser_tm1',\n",
    "        'renal_elixhauser_tm1',\n",
    "        'uncompdiabetes_elixhauser_tm1',\n",
    "        'valvulardz_elixhauser_tm1',\n",
    "        'wtloss_elixhauser_tm1',\n",
    "        'cerebrovasculardz_romano_tm1',\n",
    "        'chf_romano_tm1',\n",
    "        'dementia_romano_tm1',\n",
    "        'hemiplegia_romano_tm1',\n",
    "        'hivaids_romano_tm1',\n",
    "        'metastatic_romano_tm1',\n",
    "        'myocardialinfarct_romano_tm1',\n",
    "        'pulmonarydz_romano_tm1',\n",
    "        'tumor_romano_tm1',\n",
    "        'ulcer_romano_tm1']\n",
    "\n",
    "df = df[cols]"
   ]
  },
  {
   "cell_type": "markdown",
   "id": "55691296-51ec-4cdd-af3f-5b6cf5be5b17",
   "metadata": {},
   "source": [
    "Next I numerically encoded the race column."
   ]
  },
  {
   "cell_type": "code",
   "execution_count": 246,
   "id": "52c87d1f-55d6-4941-aa85-ef1aef842063",
   "metadata": {},
   "outputs": [],
   "source": [
    "# Step 3: \n",
    "from sklearn import preprocessing\n",
    "\n",
    "le=preprocessing.LabelEncoder()\n",
    "df[\"race\"]=le.fit_transform(df[\"race\"])\n"
   ]
  },
  {
   "cell_type": "markdown",
   "id": "cb8cc2fe-eb89-4a77-be0f-8e331472071a",
   "metadata": {},
   "source": [
    "Next I split the data into target data `y` (cost_t col of the dataframe) and predictor data X (all other cols)"
   ]
  },
  {
   "cell_type": "code",
   "execution_count": 247,
   "id": "f4edf1cb-0642-4df2-ae18-73463f1ee480",
   "metadata": {},
   "outputs": [],
   "source": [
    "# Step 4: \n",
    "X=df.drop([\"cost_t\"], axis=1)\n",
    "y=df[\"cost_t\"]"
   ]
  },
  {
   "cell_type": "markdown",
   "id": "15dacc01-bce8-491b-9483-b82bd164cdfb",
   "metadata": {},
   "source": [
    "Next, I did a train test split of X and Y, using 20% of the data as test data."
   ]
  },
  {
   "cell_type": "code",
   "execution_count": 292,
   "id": "3d001308-46c9-425f-b7ca-d739222ec621",
   "metadata": {},
   "outputs": [],
   "source": [
    "# Step 5: \n",
    "from sklearn.model_selection import train_test_split\n",
    "\n",
    "X_train, X_test=train_test_split(X, test_size=.2, random_state=2021)\n",
    "y_train, y_test=train_test_split(y, test_size=.2, random_state=2021)"
   ]
  },
  {
   "cell_type": "markdown",
   "id": "776bf0aa-96de-479a-85e2-dae5fcb77063",
   "metadata": {},
   "source": [
    "Next I created a linear regression model and fit it to the training data and evaluated the score of the model."
   ]
  },
  {
   "cell_type": "code",
   "execution_count": 293,
   "id": "df03ab7a-f198-4f21-9d34-6eff288d26a1",
   "metadata": {},
   "outputs": [
    {
     "name": "stdout",
     "output_type": "stream",
     "text": [
      "Training score = 0.12629789734544883\n",
      "Testing score = 0.12415443228313183\n"
     ]
    }
   ],
   "source": [
    "# Step 6: \n",
    "\n",
    "from sklearn.linear_model import LinearRegression\n",
    "\n",
    "LR=LinearRegression()\n",
    "LR.fit(X_train,y_train)\n",
    "\n",
    "training_score=LR.score(X_train,y_train)\n",
    "testing_score=LR.score(X_test,y_test)\n",
    "\n",
    "print(\"Training score = \" + str(training_score))\n",
    "print(\"Testing score = \" + str(testing_score))"
   ]
  },
  {
   "cell_type": "markdown",
   "id": "f904495b-82ef-4e9e-9553-ddf067999814",
   "metadata": {},
   "source": [
    "These scores are typically very low, so the model is still performing as intended. I am not worried about overfitting here because the training score and testing score differ by less than .003."
   ]
  },
  {
   "cell_type": "markdown",
   "id": "86b8c7fc-fa4e-41b5-abfa-344207aaca98",
   "metadata": {},
   "source": [
    "Next, I examined the coef_ attribute of the model, which estimates the effect that a specific column of the predictor data has on the target data. Below, I estimated the effect of the race column."
   ]
  },
  {
   "cell_type": "code",
   "execution_count": 251,
   "id": "db60947f-8894-46ba-87ad-3e993280f5db",
   "metadata": {},
   "outputs": [
    {
     "name": "stdout",
     "output_type": "stream",
     "text": [
      "Coefficient of race: 579.903174777751\n"
     ]
    }
   ],
   "source": [
    "# Step 8:\n",
    "coef=LR.coef_\n",
    "print(\"Coefficient of race: \" + str(coef[0]))"
   ]
  },
  {
   "cell_type": "markdown",
   "id": "92bf624a-d892-46ef-aee2-3b3e0f48ae84",
   "metadata": {},
   "source": [
    "The estimated difference in cost between Black and white patients is $579.90 (Black patients costing 579.90 less than hite patients). If the risk score above is calculated using past medical costs, and Black patients cost less than white patients on average because of less access to medical resources, Black patients will also recieve a lower risk score. "
   ]
  }
 ],
 "metadata": {
  "kernelspec": {
   "display_name": "Python 3",
   "language": "python",
   "name": "python3"
  },
  "language_info": {
   "codemirror_mode": {
    "name": "ipython",
    "version": 3
   },
   "file_extension": ".py",
   "mimetype": "text/x-python",
   "name": "python",
   "nbconvert_exporter": "python",
   "pygments_lexer": "ipython3",
   "version": "3.8.8"
  }
 },
 "nbformat": 4,
 "nbformat_minor": 5
}
