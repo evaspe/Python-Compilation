{
 "cells": [
  {
   "cell_type": "markdown",
   "id": "bde8c23c-ab91-42e9-89d1-2238119238a1",
   "metadata": {},
   "source": [
    "## Converting Images to Ascii Art\n",
    "\n",
    "Ascii art is fun and retro, and I want to be able to convert images into cute ascii strings that I can paste into different formats. I will be using Pillow to do this. I looked at some references to do this, and this is a bare bones version I intend to personalize more, perhaps allowing for different formatting (to paste into text, instagram, or for higher quality images) Lets go!\n",
    "\n",
    "\n",
    "First, we will load an image and define the ascii characters we will use. "
   ]
  },
  {
   "cell_type": "code",
   "execution_count": 109,
   "id": "215f17e1-2db5-4185-91cf-5ec7a36c0027",
   "metadata": {},
   "outputs": [],
   "source": [
    "from PIL import Image\n",
    "import numpy as np\n",
    "\n",
    "try:\n",
    "    image= Image.open(\"/Users/eva/Desktop/saturn.jpg\")\n",
    "    image.show()\n",
    "except:\n",
    "    print(\"Unable to find image \");\n"
   ]
  },
  {
   "cell_type": "code",
   "execution_count": 110,
   "id": "9b9b6603-675f-49bb-a79a-53a522a6b393",
   "metadata": {},
   "outputs": [],
   "source": [
    "#define ascii chars in a list from darkest to lightest\n",
    "short_ascii_chars = [\"@\", \"#\", \"$\", \"%\", \"?\",\"*\", \"+\", \"=\", \";\", \":\", \",\", \".\", \" \"]"
   ]
  },
  {
   "cell_type": "markdown",
   "id": "0f72111e-889a-4bc8-8e57-77349e79d773",
   "metadata": {},
   "source": [
    "## Resize image and get preview of small image "
   ]
  },
  {
   "cell_type": "code",
   "execution_count": 90,
   "id": "473a13bd-401b-40cd-828d-a2602d85748b",
   "metadata": {},
   "outputs": [
    {
     "data": {
      "image/png": "[encoded data removed]",
      "text/plain": [
       "<PIL.Image.Image image mode=RGB size=100x99 at 0x7F8BE12A6C70>"
      ]
     },
     "execution_count": 90,
     "metadata": {},
     "output_type": "execute_result"
    }
   ],
   "source": [
    "new_width = 100\n",
    "width, height = image.size\n",
    "new_height = round(new_width * height / width) #it needs whole numbers\n",
    "new_img=image.resize((new_width, new_height))\n",
    "new_img"
   ]
  },
  {
   "cell_type": "markdown",
   "id": "0931b435-6091-4748-b696-5b789d114734",
   "metadata": {},
   "source": [
    "## Convert image to greyscale"
   ]
  },
  {
   "cell_type": "code",
   "execution_count": 101,
   "id": "9d983d75-d706-4cb4-937d-d3f60c1fd496",
   "metadata": {},
   "outputs": [
    {
     "data": {
      "image/png": "[encoded data removed]",
      "text/plain": [
       "<PIL.Image.Image image mode=L size=100x99 at 0x7F8BE1A8BF40>"
      ]
     },
     "execution_count": 101,
     "metadata": {},
     "output_type": "execute_result"
    }
   ],
   "source": [
    "new_img=new_img.convert(\"L\")\n",
    "new_img"
   ]
  },
  {
   "cell_type": "markdown",
   "id": "fe1231ed-c08a-49cb-8704-949c290c731c",
   "metadata": {},
   "source": [
    "## Build the Ascii Image by converting each pixel value to corresponding ascii charachter"
   ]
  },
  {
   "cell_type": "code",
   "execution_count": 115,
   "id": "76099f40-adf5-4d12-a24c-4cd1b6e816f3",
   "metadata": {},
   "outputs": [],
   "source": [
    "pixels = new_img.getdata() #get pixels from memory\n",
    "ascii_str = \"\"\n",
    "\n",
    "#build string from pixels then converting brightness to corresponding ascii char\n",
    "for pixel in pixels:\n",
    "    ascii_str += short_ascii_chars[pixel//25]; "
   ]
  },
  {
   "cell_type": "code",
   "execution_count": 116,
   "id": "68abffc2-781f-4c14-b566-958d696cb2ea",
   "metadata": {},
   "outputs": [],
   "source": [
    "img_width = new_img.width\n",
    "ascii_str_len = len(ascii_str)\n",
    "ascii_img=\"\"\n",
    "\n",
    "#Split the string based on width  of the image\n",
    "for i in range(0, ascii_str_len, img_width):\n",
    "    ascii_img += ascii_str[i:i+img_width] + \"\\n\"\n"
   ]
  },
  {
   "cell_type": "markdown",
   "id": "435e56be-e5ab-4e4d-ad8a-d897e7134dd9",
   "metadata": {},
   "source": [
    "## Preview"
   ]
  },
  {
   "cell_type": "code",
   "execution_count": 117,
   "id": "ca2a4c7c-00b6-4e3f-8166-41ca5df0781a",
   "metadata": {},
   "outputs": [
    {
     "data": {
      "text/plain": [
       "',,,,,,,,,,,,,,,,,,,,,,,,,,,,,,,,,,,,,,,,,,,,,,,,,,,,,,,,,,,,,,,,,,,,,,,,,,,,,,,,,,,,,,,,,,,,,,,,,,,,\\n,,,,,,,,,,,,,,,,,,,,,,,,,,,,,,,,,,,,,,,,,,,,,,,,,,,,,,,,,,,,,,,,,,,,,,,,,,,,,,,,,,,,,,,,,,,,,,,,,,,,\\n,,,,,,,,,,,,,,,,,,,,,,,,,,,,,,,,,,,,,,,,,,,,,,,,,,,,,,,,,,,,,,,,,,,,,,,,,,,,,,,,,,,,,,,,,,,,,,,,,,,,\\n,,,,,,,,,,,,,,,,,,,,,,,,,,,,,,,,,,,,,,,,,,,,,,,,,,,,,,,,,,,,,,,,,,,,,,,,,,,,,,,,,,,,,,,,,,,,,,,,,,,,\\n,,,,,,,,,,,,,,,,,,,,,,,,,,,,,,,,,,,,,,,,,,,,,,,,,,,,,,,,,,,,,,,,,,,,,,,,,,,,,,,,,,,,,,,,,,,,,,,,,,,,\\n,,,,,,,,,,,,,,,,,,,,,,,,,,,,,,,,,,,,,,,,,,,,,,,,,,,,,,,,,,,,,,,,,,,,,,,,,,,,,,,,,,,,,,,,,,,,,,,,,,,,\\n,,,,,,,,,,,,,,,,,,,,,,,,,,,,,,,,,,,,,,,,,,,,,,,,,,,,,,,,,,,,,,,,,,,,,,,,,,,,,,,,,,,,,,,,,,,,,,,,,,,,\\n,,,,,,,,,,,,,,,,,,,,,,,,,,,,,,,,,,,,,,,,,,,,,,,,,,,,,,,,,,,,,,,,,,,,,,,,,,,,,,,,,,,,,,,,,,,,,,,,,,,,\\n,,,,,,,,,,,,,,,,,,,,,,,,,,,,,,,,,,,,,,,,,,,,,,,,,,,,,,,,,,,,,,,,,,,,,,,,,,,,,,,,,,,,,,,,,,,,,,,,,,,,\\n,,,,,,,,,,,,,,,,,,,,,,,,,,,,,,,,,,,,,,,,,,,,,,,,,,,,,,,,,,,,,,,,,,,,,,,,,,,,,,,,,,,,,,,,,,,,,,,,,,,,\\n,,,,,,,,,,,,,,,,,,,,,,,,,,,,,,,,,,,,,,,,,,,,,,,,,,,,,,,,,,,,,,,,,,,,,,,,,,,,,,,,,,,,,,,,,,,,,,,,,,,,\\n,,,,,,,,,,,,,,,,,,,,,,,,,,,,,,,,,,,,,,,,,,,,,,,,,,,,,,,,,,,,,,,,,,,,,,,,,,,,,,,,,,,,,,,,,,,,,,,,,,,,\\n,,,,,,,,,,,,,,,,,,,,,,,,,,,,,,,,,,,,,,,,,,,,,,,,,,,,,,,,,,,,,,,,,,,,,,,,,,,,,,,,,,,,,,,,,,,,,,,,,,,,\\n,,,,,,,,,,,,,,,,,,,,,,,,,,,,,,,,,,,,,,,,,,,,,,,,,,,,,,,,,,,,,,,,,,,,,,,,,,,,,,,,,,,,,,,,,,,,,,,,,,,,\\n,,,,,,,,,,,,,,,,,,,,,,,,,,,,,,,,,,,,,,,,,,,,,,,,,,,,,,,,,,,,,,,,,,,,,,,,,,,,,,,,,,,,,,,,,,,,,,,,,,,,\\n,,,,,,,,,,,,,,,,,,,,,,,,,,,,,,,,,,,,,,,,,,,,,,,,,,,,,,,,,,,,,,,,,,,,,,,,,,,,,,,,,,,,,,,,,,,,,,,,,,,,\\n,,,,,,,,,,,,,,,,,,,,,,,,,,,,,,,,,,,,,,,,,,,,,,,,,,,,,,,,,,,,,,,,,,,,,,,,,,,,,,,,,,,,,,,,,,,,,,,,,,,,\\n,,,,,,,,,,,,,,,,,,,,,,,,,,,,,,,,,,,,,,,,,,,,,,,,,,,,,,,,,,,,,,,,,,,,,,,,,,,,,,,,,,,,,,,,,,,,,,,,,,,,\\n,,,,,,,,,,,,,,,,,,,,,,,,,,,,,,,,,,,,,,,,,,,,,,,,,,,,,,,,,,,,,,,,,,,,,,,,,,,,,,,,,,,,,,,,,,,,,,,,,,,,\\n,,,,,,,,,,,,,,,,,,,,,,,,,,,,,,,,,,,,,,,,,,,,,,,,,,,,,,,,,,,,,,,,,,,,,,,,,,,,,,,,,,,,,,,,,:::,,,,,,,,\\n,,,,,,,,,,,,,,,,,,,,,,,,,,,,,,,,,,,,,,,,,,,,,,,,,,,,,,,,,,,,,,,,,,,,,,,,,,,,,,,,,,,,:;+*?%%%?+:,,,,,\\n,,,,,,,,,,,,,,,,,,,,,,,,,,,,,,,,,,,,,,,,,,,,,,,,,,,,,,,,,,,,,,,,,,,,,,,,,,,,,,,,,:=*%%%??***?%*,,,,,\\n,,,,,,,,,,,,,,,,,,,,,,,,,,,,,,,,:;;;;;;;;;;;;;;;;;;;;;;;;;,,,,,,,,,,,,,,,,,,,,:=*%%?***+******%:,,,,\\n,,,,,,,,,,,,,,,,,,,,,,,,,,,,,,,,;*+***********************:,,,,,,,,,,,,,,,,,;*%%?*+++++=;;+**??:,,,,\\n,,,,,,,,,,,,,,,,,,,,,,,,,,,,,,,,;*==;====+====+===+=====+*:,,,,,,,,,,,,,,:=?%?*++++++++**=;**?*,,,,,\\n,,,,,,,,,,,,,,,,,,,,,,,,,,,,,,,,;*+++++++*++++++++++*+++**:,,,,,,,,,,,,:+%%*++++======;;++;+*%;,,,,,\\n,,,,,,,,,,,,,,,,,,,,,,,,,,,,,,,,;+*******++++**????**+++++:,,,,,,,,,,;*%?*++++++******=;*+;*%*,,,,,,\\n,,,,,,,,,,,,,,,,,,,,,,,,,,,,,,,,:::::::::;=*?%??%%%%%?*+;:,,,,,,,,,;*%?+=++++*********==?;=?%:,,,,,,\\n,,,,,,,,,,,,,,,,,,,,,,,,,,,,,,,,,,,,,,,;*%%?*=;++===++*?%*;,,,,,,;*%?+=++***??????****;*+;*%;,,,,,,,\\n,,,,,,,,,,,,,,,,,,,,,,,,,,,,,,,,,,,,,;*%?**+=;++=====;;;+*%?;,,;*%?==+***?%%%$%%%%?**+=*;+%+,,,,,,,,\\n,,,,,,,,,,,,,,,,,,,,,,,,,,,,,,,,,,,,+%?***+=;++===++==;==;=+%**%*==+**?%%%?*+=+%%%?*+=?==%*,,,,,,,,,\\n,,,,,,,,,,,,,,,,,,,,,,,,,,,,,,,,,,:?%****+;=++===+++=;++=;;;=*$*;+*??%%*=:,,,,,+%%?*=?+=%*,,,,,,,,,,\\n,,,,,,,,,,,,,,,,,,,,,,,,,,,,,,,,,;%?****=;=++===+++=;+*+==;;;;+%%?%%*=:,,,,,,,,*%?*=**=?*,,,,,,,,,,,\\n,,,,,,,,,,,,,,,,,,,,,,,,,,,,,,,,;%****+=;+++===+++=;+*+=====;;;+$$+:,,,,,,,,,,;%%*=**=??:,,,,,,,,,,,\\n,,,,,,,,,,,,,,,,,,,,,,,,,,,,,,,;%***+=;=++====+++=;+*+=======;==+%=,,,,,,,,,,,*%?=**=?*:,,,,,,,,,,,:\\n,,,,,,,,,,,,,,,,,,,,,,,,,,,,,,:%?*+=;;+++====+++=;+*+=======+++=;;%;,,,,,,,,,+%?=**=?*:,,,,,,,,,,,,:\\n,,,,,,,,,,,,,,,,,,,,,,,,,,,,,,??+=;;=++=====+++=;+*+========+?*=;:=%:,,,,,,,=%?=?*=%*,,,,,,,,,,,,,,:\\n,,,,,,,,,,,,,,,,,,,,,,,,,,,,,+?=;;=++=====+++=;;+*+=======++***=;;:+?,,,,,,=%?=?*=%+,,,,,,,,,,,,::::\\n,,,,,,,,,,,,,,,,,,,,,,,,,,,,:%+==+++====++++=;=**+=======++*?*===;:;?=,,,,;%*+?*+%=,,,,,,,,,,,,,::::\\n,,,,,,,,,,,,,,,,,,,,,,,,,,,,*?**++=====+++=;;+*+========++*?*+;==;::=?:,,=%*+%++%=,,,,,,,,,,,,,,::::\\n,,,,,,,,,,,,,,,,,,,,,,,,,,,:%**+=====+++==;=+*+========++*?*+;==;;;:;?=,=%+*%+*%;,,,,,,,,,,,,,::::::\\n,,,,,,,,,,,,,,,,,,,,,,,,,,,+?++===++++==;=+*++========++*?*+;==;;;;:;+?+%+??=??:,,,,,,,,,,,,,,::::::\\n,,,,,,,,,,,,,,,,,,,,,,,,,,:%*++=++++==;=+**+=========+*?**=;==;;;;;;;=%?+??=%*,,,,,,,,,,,,,:::::::::\\n,,,,,,,,,,,,,,,,,,,,,,,,,,;%+**+++=;;=+**+=========++*?*+=;==;;;;;===??*%*+%=,,,,,,,,,,,,,,:::::::::\\n,,,,,,,,,,,,,,,,,,,,,,,,,,+%***==;;=+**+==========++*?*+=;==;;;;;;=+%*?%+*?;,,,,,,,,,,,,,,,:::::::::\\n,,,,,,,,,,,,,,,,,,,,,,,,,,??++=;=+***+===========+**?*+;;==;;;;;;=*%*??+?*:,,,,,,,,,,,,,,:::::::::::\\n,,,,,,,,,,,,,,,,,,,,,,,,,,?+++****++===========++*?*+=;;==;;;;;;=???%*+%+,,,,,,,,,,,,,,,,:::::::::::\\n,,,,,,,,,,,,,,,,,,,,,,,,,:%*??*++=============++*?*+=;===;;;;;;+???%+*%%;,,,,,,,,,,,,,::::::::::::::\\n,,,,,,,,,,,,,,,,,,,,,,,,,:%***+=============++*??*=;;==;;;;;;=*%?%?+?%+?=,,,,,,,,,,,,,::::::::::::::\\n,,,,,,,,,,,,,,,,,,,,,,,,,;%+++++==========++**?*+=;;==;;;;;;=?%?%*+%?+=*=,,,,,,,,,,,,,::::::::::::::\\n,,,,,,,,,,,,,,,,,,,,,,,,,;%+++++========+++*?*+=;;===;;;;;;*%?%?+?%++=;*=,,,,,,,,,,,::::::::::::::::\\n,,,,,,,,,,,,,,,,,,,,,,,,,;%+++*+======+++*??*+;;;==;;;;;;=?%%%*+%?++=;;*=,,,,,,,,,,,::::::::::::::::\\n,,,,,,,,,,,,,,,,,,,,,,,,,:%****+====+++*??*+=;;===;;;;;;*%%%%+?%*=+=;;;*;,,,,,,,,:::::::::::::::::::\\n,,,,,,,,,,,,,,,,,,,,,,,,,;%***++==+++*??*+=;;===;;;;;;=?%%%?*%?+=+==;;;?;,,,,,,,,:::::::::::::::::::\\n,,,,,,,,,,,,,,,,,,,,,,,,=%%*++**++**??*+=;;;==;;;;;;;*%%%%*?%*=++==;;;=?:,,,,,,,,:::::::::::::::::::\\n,,,,,,,,,,,,,,,,,,,,,,:*%=??+*****?**+=;;;===;;;;;;+?%%%?*%?++++=;;;;;+?,,,,,,::::::::::::::::::::::\\n,,,,,,,,,,,,,,,,,,,,,:??==%%**???**+=;;====;;;;;;=?%%%%*?%*=+++=;;;;;=?+,,,,,,::::::::::::::::::::::\\n,,,,,,,,,,,,,,,,,,,,;%*=+*%$????*+=;;===;;;;;;;;*%?%%**%?+++++=;;;;;=+%;,,,,,,::::::::::::::::::::::\\n,,,,,,,,,,,,,,,,,,,=%+=**%*??**+++====;;;;;;;;+???%?*?%+=+++==;;;;;=+*%:,,:,::::::::::::::::::::::::\\n,,,,,,,,,,,,,,,,,,+%==*?%*,;%++++++=;;;;;;;;+???%%*?%*+++++=;;;;;;=+*%+,,::,::::::::::::::::::::::::\\n,,,,,,,,,,,,,,,,:*?=+*?%*:,,?*+++++=;;;;;;=?%??%**%?+=++++=;;;;;;=+*?%:,,:::::::::::::::::::::::::::\\n,,,,,,,,,,,,,,,:??=+*?%*,,,,=%++++++=;;;=?%*?%?*?%*=++++==;;;;;;=+**%+,,,:::::::::::::::::::::::::::\\n,,,,,,,,,,,,,,:?*=+*?%*:,,,,,?*=+++++==?%**%%*?%*+=++++=;;;;;;==+**?%:,,,:::::::::::::::::::::::::::\\n,,,,,,,,,,,,,;%*=+**%?:,,,,,,:%+++++*?%*+?%**%?+=++++=;;;;;;;=++***$=,,:::::::::::::::::::::::::::::\\n,,,,,,,,,,,,;%*=+**?%;,,,,,,,,=%++*%%*+?%?*%?+=++++=;;;;;;;;=++**?$+,,,:::::::::::::::::::::::::::::\\n,,,,,,,,,,,;%+=+**?%+,,,,,,,,,,+%%%*+*%?*?%*==+++==;;;;;;;=++**??%*,,:::::::::::::::::::::::::::::::\\n,,,,,,,,,,;%*=+**?%%:,,,,,,,,;+%%*=*%?*?%?**+++=;;;;;;;;==++*???%?:,,:::::::::::::::::::::::::::::::\\n,,,,,,,,,:%*=++**?%?,,,,,,;+?%?+=*??*?%?*****++========++**????$?:,,,:::::::::::::::::::::::::::::::\\n,,,,,,,,:??=++**?%?%+;==*?%%?+=*??*?$?****++++++++++++***?????$*:,::::::::::::::::::::::::::::::::::\\n,,,,,,,,*?=+=***?%%%%$$%%?*==*??*??+?%*+++++++++++++***?????%%=,,:::::::::::::::::::::::::::::::::::\\n,,,,,,,+%=+=+****??????*+==*?**?%+:,:+%?+=+++++++****?????%$*:,:::::::::::::::::::::::::::::::::::::\\n,,,,,,;%*=+;+********+==+??**??+:,,,,,:+%%*++++***?????%$%*;,,,:::::::::::::::::::::::::::::::::::::\\n,,,,,,??=+=;=****++=;=*?*+*%?=:,,,,,,,,,:=*?%%%%%%%%$$%?=:,,,,,:::::::::::::::::::::::::::::::::::::\\n,,,,,=%*;*=;;;=;;==*?*++?%?=,,,,,,,,,,,,,,,,:;=+**++=;:,,,,,,:::::::::::::::::::::::::::::::::::::::\\n,,,,,??*;+*++++****++*?%*;,,,,,,,,,,,,,,,,,,,,,,,,,,,,,,,,,,,:::::::::::::::::::::::::::::::::::::::\\n,,,,:%**=;=+++++==+?%?=:,,,,,,,,,,,,,,,,,,,,,,,,,,,,,,,,,,,,,:::::::::::::::::::::::::::::::::::::::\\n,,,,:%***+====+*?%?+:,,,,,,,,,,,,,,,,,,,,,,,,,,,,,,,,,,,,,::::::::::::::::::::::::::::::::::::::::::\\n,,,,,*%?*????%%?+;,,,,,,,,,,,,,,,,,,,,,,,,,,,,,,,,,,,,,,,,::::::::::::::::::::::::::::::::::::::::::\\n,,,,,,=????*+;:,,,,,,,,,,,,,,,,,,,,,,,,,,,,,,,,,,,,,,,,:::::::::::::::::::::::::::::::::::::::::::::\\n,,,,,,,,,,,,,,,,,,,,,,,,,,,,,,,,,,,,,,,,,,,,,,,,,,,,,,,:::::::::::::::::::::::::::::::::::::::::::::\\n,,,,,,,,,,,,,,,,,,,,,,,,,,,,,,,,,,,,,,,,,,,,,,,,,,,,,,,:::::::::::::::::::::::::::::::::::::::::::::\\n,,,,,,,,,,,,,,,,,,,,,,,,,,,,,,,,,,,,,,,,,,,,,,,,,,,,,:::::::::::::::::::::::::::::::::::::::::::::::\\n,,,,,,,,,,,,,,,,,,,,,,,,,,,,,,,,,,,,,,,,,,,,,,,,,,,,,:::::::::::::::::::::::::::::::::::::::::::::::\\n,,,,,,,,,,,,,,,,,,,,,,,,,,,,,,,,,,,,,,,,,,,,,,,,,,::::::::::::::::::::::::::::::::::::::::::::::::::\\n,,,,,,,,,,,,,,,,,,,,,,,,,,,,,,,,,,,,,,,,,,,,,,,,,,::::::::::::::::::::::::::::::::::::::::::::::::::\\n,,,,,,,,,,,,,,,,,,,,,,,,,,,,,,,,,,,,,,,,,,,,,,,,,,::::::::::::::::::::::::::::::::::::::::::::::::::\\n,,,,,,,,,,,,,,,,,,,,,,,,,,,,,,,,,,,,,,,,,,,,,,,,::::::::::::::::::::::::::::::::::::::::::::::::::::\\n,,,,,,,,,,,,,,,,,,,,,,,,,,,,,,,,,,,,,,,,,,,,,,,,::::::::::::::::::::::::::::::::::::::::::::::::::::\\n,,,,,,,,,,,,,,,,,,,,,,,,,,,,,,,,,,,,,,,,,,,,,:::::::::::::::::::::::::::::::::::::::::::::::::::::::\\n,,,,,,,,,,,,,,,,,,,,,,,,,,,,,,,,,,,,,,,,,,,,,:::::::::::::::::::::::::::::::::::::::::::::::::::::::\\n,,,,,,,,,,,,,,,,,,,,,,,,,,,,,,,,,,,,,,,,,,,,,:::::::::::::::::::::::::::::::::::::::::::::::::::::::\\n,,,,,,,,,,,,,,,,,,,,,,,,,,,,,,,,,,,,,,,,,,,:::::::::::::::::::::::::::::::::::::::::::::::::::::::::\\n,,,,,,,,,,,,,,,,,,,,,,,,,,,,,,,,,,,,,,,,,,,:::::::::::::::::::::::::::::::::::::::::::::::::::::::::\\n,,,,,,,,,,,,,,,,,,,,,,,,,,,,,,,,,,,,,,,,::::::::::::::::::::::::::::::::::::::::::::::::::::::::::::\\n,,,,,,,,,,,,,,,,,,,,,,,,,,,,,,,,,,,,,,,,::::::::::::::::::::::::::::::::::::::::::::::::::::::::::::\\n,,,,,,,,,,,,,,,,,,,,,,,,,,,,,,,,,,,,,,,,::::::::::::::::::::::::::::::::::::::::::::::::::::::::::::\\n,,,,,,,,,,,,,,,,,,,,,,,,,,,,,,,,,,,,,,::::::::::::::::::::::::::::::::::::::::::::::::::::::::::::::\\n,,,,,,,,,,,,,,,,,,,,,,,,,,,,,,,,,,,,,,::::::::::::::::::::::::::::::::::::::::::::::::::::::::::::::\\n,,,,,,,,,,,,,,,,,,,,,,,,,,,,,,,,,,,,,,::::::::::::::::::::::::::::::::::::::::::::::::::::::::::::::\\n'"
      ]
     },
     "execution_count": 117,
     "metadata": {},
     "output_type": "execute_result"
    }
   ],
   "source": [
    "ascii_img"
   ]
  },
  {
   "cell_type": "markdown",
   "id": "028f7fa1-67fd-4f10-b445-124e811b3adc",
   "metadata": {},
   "source": [
    "## Save to File"
   ]
  },
  {
   "cell_type": "code",
   "execution_count": 97,
   "id": "12c34e72-9206-4c38-a3f4-57f7b8936021",
   "metadata": {},
   "outputs": [],
   "source": [
    "try:\n",
    "    with open(\"ascii_image.txt\", \"w\") as f:\n",
    "        f.write(ascii_img);\n",
    "except:\n",
    "    print(\"failed to save\")"
   ]
  }
 ],
 "metadata": {
  "kernelspec": {
   "display_name": "Python 3",
   "language": "python",
   "name": "python3"
  },
  "language_info": {
   "codemirror_mode": {
    "name": "ipython",
    "version": 3
   },
   "file_extension": ".py",
   "mimetype": "text/x-python",
   "name": "python",
   "nbconvert_exporter": "python",
   "pygments_lexer": "ipython3",
   "version": "3.8.8"
  }
 },
 "nbformat": 4,
 "nbformat_minor": 5
}
